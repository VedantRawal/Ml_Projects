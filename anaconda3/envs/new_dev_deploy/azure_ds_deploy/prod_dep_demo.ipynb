{
 "cells": [
  {
   "cell_type": "code",
   "execution_count": 1,
   "metadata": {},
   "outputs": [],
   "source": [
    "import pandas as pd\n",
    "from sklearn.tree import DecisionTreeClassifier\n",
    "from sklearn.preprocessing import LabelEncoder\n",
    "from sklearn.model_selection import KFold, cross_val_score"
   ]
  },
  {
   "cell_type": "code",
   "execution_count": 2,
   "metadata": {},
   "outputs": [],
   "source": [
    "df_drug = pd.read_csv(\"drug200.csv\")"
   ]
  },
  {
   "cell_type": "code",
   "execution_count": 3,
   "metadata": {},
   "outputs": [],
   "source": [
    "label_encoder = LabelEncoder()"
   ]
  },
  {
   "cell_type": "code",
   "execution_count": 4,
   "metadata": {},
   "outputs": [],
   "source": [
    "categorical_features = [feature for feature in df_drug.columns if df_drug[feature].dtypes == 'O']\n",
    "for feature in categorical_features:\n",
    "    df_drug[feature]=label_encoder.fit_transform(df_drug[feature])"
   ]
  },
  {
   "cell_type": "code",
   "execution_count": 5,
   "metadata": {},
   "outputs": [],
   "source": [
    "X = df_drug.drop(\"Drug\", axis=1)\n",
    "y = df_drug[\"Drug\"]"
   ]
  },
  {
   "cell_type": "code",
   "execution_count": 6,
   "metadata": {},
   "outputs": [
    {
     "data": {
      "text/plain": [
       "DecisionTreeClassifier(criterion='entropy')"
      ]
     },
     "execution_count": 6,
     "metadata": {},
     "output_type": "execute_result"
    }
   ],
   "source": [
    "model = DecisionTreeClassifier(criterion=\"entropy\")\n",
    "model.fit(X, y)"
   ]
  },
  {
   "cell_type": "code",
   "execution_count": 7,
   "metadata": {},
   "outputs": [
    {
     "name": "stdout",
     "output_type": "stream",
     "text": [
      "0.99 0.012247448713915901\n"
     ]
    }
   ],
   "source": [
    "kfold = KFold(random_state=42, shuffle=True)\n",
    "cv_results = cross_val_score(model, X, y, cv=kfold, scoring=\"accuracy\")\n",
    "print(cv_results.mean(), cv_results.std())"
   ]
  },
  {
   "cell_type": "code",
   "execution_count": 8,
   "metadata": {},
   "outputs": [],
   "source": [
    "import pickle\n",
    "\n",
    "\n",
    "pickle_file = open('model.pkl', 'ab')\n",
    "pickle.dump(model, pickle_file)                     \n",
    "pickle_file.close()"
   ]
  },
  {
   "cell_type": "code",
   "execution_count": 9,
   "metadata": {},
   "outputs": [
    {
     "name": "stdout",
     "output_type": "stream",
     "text": [
      "Sex ['F', 'M'] [0, 1] \n",
      "\n",
      "BP ['HIGH', 'LOW', 'NORMAL'] [0, 1, 2] \n",
      "\n",
      "Cholesterol ['HIGH', 'NORMAL'] [0, 1] \n",
      "\n",
      "Drug ['DrugY', 'drugC', 'drugX', 'drugA', 'drugB'] [0, 3, 4, 1, 2] \n",
      "\n"
     ]
    }
   ],
   "source": [
    "df_drug = pd.read_csv(\"drug200.csv\")\n",
    "\n",
    "label_encoder = LabelEncoder()\n",
    "\n",
    "categorical_features = [feature for feature in df_drug.columns if df_drug[feature].dtypes == 'O']\n",
    "for feature in categorical_features:\n",
    "    print(feature, list(df_drug[feature].unique()), list(label_encoder.fit_transform(df_drug[feature].unique())), \"\\n\")"
   ]
  },
  {
   "cell_type": "code",
   "execution_count": 10,
   "metadata": {},
   "outputs": [],
   "source": [
    "gender_map = {\"F\": 0, \"M\": 1}\n",
    "bp_map = {\"HIGH\": 0, \"LOW\": 1, \"NORMAL\": 2}\n",
    "cholestol_map = {\"HIGH\": 0, \"NORMAL\": 1}\n",
    "drug_map = {0: \"DrugY\", 3: \"drugC\", 4: \"drugX\", 1: \"drugA\", 2: \"drugB\"}\n",
    "\n",
    "def predict_drug(Age, \n",
    "                 Sex, \n",
    "                 BP, \n",
    "                 Cholesterol, \n",
    "                 Na_to_K):\n",
    "\n",
    "    # 1. Read the machine learning model from its saved state ...\n",
    "    pickle_file = open('model.pkl', 'rb')     \n",
    "    model = pickle.load(pickle_file)\n",
    "    \n",
    "    # 2. Transform the \"raw data\" passed into the function to the encoded / numerical values using the maps / dictionaries\n",
    "    Sex = gender_map[Sex]\n",
    "    BP = bp_map[BP]\n",
    "    Cholesterol = cholestol_map[Cholesterol]\n",
    "\n",
    "    # 3. Make an individual prediction for this set of data\n",
    "    y_predict = model.predict([[Age, Sex, BP, Cholesterol, Na_to_K]])[0]\n",
    "\n",
    "    # 4. Return the \"raw\" version of the prediction i.e. the actual name of the drug rather than the numerical encoded version\n",
    "    return drug_map[y_predict] "
   ]
  },
  {
   "cell_type": "code",
   "execution_count": 11,
   "metadata": {},
   "outputs": [
    {
     "data": {
      "text/plain": [
       "'drugC'"
      ]
     },
     "execution_count": 11,
     "metadata": {},
     "output_type": "execute_result"
    }
   ],
   "source": [
    "predict_drug(47, \"F\", \"LOW\",  \"HIGH\", 14)"
   ]
  },
  {
   "cell_type": "code",
   "execution_count": 12,
   "metadata": {},
   "outputs": [
    {
     "data": {
      "text/plain": [
       "'DrugY'"
      ]
     },
     "execution_count": 12,
     "metadata": {},
     "output_type": "execute_result"
    }
   ],
   "source": [
    "predict_drug(60, \"F\", \"LOW\",  \"HIGH\", 20)"
   ]
  },
  {
   "cell_type": "code",
   "execution_count": 2,
   "metadata": {},
   "outputs": [],
   "source": [
    "from flask import Flask\n",
    "\n",
    "import pickle\n",
    "from flask import request, jsonify\n",
    "\n",
    "app = Flask(__name__)\n",
    "\n",
    "gender_map = {\"F\": 0, \"M\": 1}\n",
    "bp_map = {\"HIGH\": 0, \"LOW\": 1, \"NORMAL\": 2}\n",
    "cholesterol_map = {\"HIGH\": 0, \"NORMAL\": 1}\n",
    "drug_map = {0: \"DrugY\", 3: \"drugC\", 4: \"drugX\", 1: \"drugA\", 2: \"drugB\"}\n",
    "\n",
    "def predict_drug(Age, \n",
    "                 Sex, \n",
    "                 BP, \n",
    "                 Cholesterol, \n",
    "                 Na_to_K):\n",
    "\n",
    "    # 1. Read the machine learning model from its saved state ...\n",
    "    pickle_file = open('model.pkl', 'rb')     \n",
    "    model = pickle.load(pickle_file)\n",
    "    \n",
    "    # 2. Transform the \"raw data\" passed into the function to the encoded / numerical values using the maps / dictionaries\n",
    "    Sex = gender_map[Sex]\n",
    "    BP = bp_map[BP]\n",
    "    Cholesterol = cholesterol_map[Cholesterol]\n",
    "\n",
    "    # 3. Make an individual prediction for this set of data\n",
    "    y_predict = model.predict([[Age, Sex, BP, Cholesterol, Na_to_K]])[0]\n",
    "\n",
    "    # 4. Return the \"raw\" version of the prediction i.e. the actual name of the drug rather than the numerical encoded version\n",
    "    return drug_map[y_predict]  \n",
    "\n",
    "@app.route(\"/\")\n",
    "def hello():\n",
    "    return \"A test web service for accessing a machine learning model to make drug recommendations v2.\"\n",
    "\n",
    "@app.route('/drug', methods=['GET'])\n",
    "def api_all():\n",
    "#    return jsonify(data_science_books)\n",
    "\n",
    "    Age = int(request.args['Age'])\n",
    "    Sex = request.args['Sex']\n",
    "    BP = request.args['BP']\n",
    "    Cholesterol = request.args['Cholesterol']\n",
    "    Na_to_K = float(request.args['Na_to_K'])\n",
    "\n",
    "    drug = predict_drug(Age, Sex, BP, Cholesterol, Na_to_K)\n",
    "\n",
    "    #return(jsonify(drug))\n",
    "    return(jsonify(recommended_drug = drug))"
   ]
  },
  {
   "cell_type": "code",
   "execution_count": null,
   "metadata": {},
   "outputs": [],
   "source": []
  }
 ],
 "metadata": {
  "kernelspec": {
   "display_name": "Python 3.8.16 ('new_dev_deploy')",
   "language": "python",
   "name": "python3"
  },
  "language_info": {
   "codemirror_mode": {
    "name": "ipython",
    "version": 3
   },
   "file_extension": ".py",
   "mimetype": "text/x-python",
   "name": "python",
   "nbconvert_exporter": "python",
   "pygments_lexer": "ipython3",
   "version": "3.8.16"
  },
  "orig_nbformat": 4,
  "vscode": {
   "interpreter": {
    "hash": "88d0d66bc7214492cd00f622e1aac08f8730eb8d54b6b5936c587e2bdd3d7f8d"
   }
  }
 },
 "nbformat": 4,
 "nbformat_minor": 2
}
